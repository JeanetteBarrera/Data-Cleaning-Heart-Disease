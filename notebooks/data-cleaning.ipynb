{
 "cells": [
  {
   "cell_type": "code",
   "execution_count": 1,
   "id": "e207a9b2-58f4-4e4c-acc4-d01919b57c06",
   "metadata": {},
   "outputs": [],
   "source": [
    "#### Importamos las librerias que se utilizaran:\n",
    "import pandas as pd\n",
    "import numpy as np\n",
    "import matplotlib.pyplot as plt \n",
    "import seaborn as sns"
   ]
  },
  {
   "cell_type": "code",
   "execution_count": 2,
   "id": "21bc5ee4-fc93-4f2c-b3e0-aabed21ecb60",
   "metadata": {},
   "outputs": [],
   "source": [
    "# Leer el archivo CSV\n",
    "# data: https://archive.ics.uci.edu/ml/datasets/heart+disease\n",
    "heart = pd.read_csv(\"../data/cleveland-data.csv\")"
   ]
  },
  {
   "cell_type": "markdown",
   "id": "dc2b48f8-0e08-4ba2-b3d5-c0a0f73bb605",
   "metadata": {},
   "source": [
    "\n",
    "### 1. Inspección inicial"
   ]
  },
  {
   "cell_type": "markdown",
   "id": "3529c42b-dee1-44d2-8fc5-69ccdcef2e59",
   "metadata": {},
   "source": [
    "Antes de comenzar con la limpieza, es importante conocer bien los datos."
   ]
  },
  {
   "cell_type": "code",
   "execution_count": 5,
   "id": "49e17eac-c005-45af-a4d0-a2b89987414a",
   "metadata": {},
   "outputs": [
    {
     "data": {
      "text/html": [
       "<div>\n",
       "<style scoped>\n",
       "    .dataframe tbody tr th:only-of-type {\n",
       "        vertical-align: middle;\n",
       "    }\n",
       "\n",
       "    .dataframe tbody tr th {\n",
       "        vertical-align: top;\n",
       "    }\n",
       "\n",
       "    .dataframe thead th {\n",
       "        text-align: right;\n",
       "    }\n",
       "</style>\n",
       "<table border=\"1\" class=\"dataframe\">\n",
       "  <thead>\n",
       "    <tr style=\"text-align: right;\">\n",
       "      <th></th>\n",
       "      <th>age</th>\n",
       "      <th>sex</th>\n",
       "      <th>cp</th>\n",
       "      <th>trestbps</th>\n",
       "      <th>chol</th>\n",
       "      <th>fbs</th>\n",
       "      <th>restecg</th>\n",
       "      <th>thalach</th>\n",
       "      <th>exang</th>\n",
       "      <th>oldpeak</th>\n",
       "      <th>slope</th>\n",
       "      <th>ca</th>\n",
       "      <th>thal</th>\n",
       "      <th>heart_disease</th>\n",
       "    </tr>\n",
       "  </thead>\n",
       "  <tbody>\n",
       "    <tr>\n",
       "      <th>0</th>\n",
       "      <td>63.0</td>\n",
       "      <td>1.0</td>\n",
       "      <td>1.0</td>\n",
       "      <td>145.0</td>\n",
       "      <td>233.0</td>\n",
       "      <td>1.0</td>\n",
       "      <td>2.0</td>\n",
       "      <td>150.0</td>\n",
       "      <td>0.0</td>\n",
       "      <td>2.3</td>\n",
       "      <td>3.0</td>\n",
       "      <td>0.0</td>\n",
       "      <td>6.0</td>\n",
       "      <td>0</td>\n",
       "    </tr>\n",
       "    <tr>\n",
       "      <th>1</th>\n",
       "      <td>67.0</td>\n",
       "      <td>1.0</td>\n",
       "      <td>4.0</td>\n",
       "      <td>160.0</td>\n",
       "      <td>286.0</td>\n",
       "      <td>0.0</td>\n",
       "      <td>2.0</td>\n",
       "      <td>108.0</td>\n",
       "      <td>1.0</td>\n",
       "      <td>1.5</td>\n",
       "      <td>2.0</td>\n",
       "      <td>3.0</td>\n",
       "      <td>3.0</td>\n",
       "      <td>2</td>\n",
       "    </tr>\n",
       "    <tr>\n",
       "      <th>2</th>\n",
       "      <td>67.0</td>\n",
       "      <td>1.0</td>\n",
       "      <td>4.0</td>\n",
       "      <td>120.0</td>\n",
       "      <td>229.0</td>\n",
       "      <td>0.0</td>\n",
       "      <td>2.0</td>\n",
       "      <td>129.0</td>\n",
       "      <td>1.0</td>\n",
       "      <td>2.6</td>\n",
       "      <td>2.0</td>\n",
       "      <td>2.0</td>\n",
       "      <td>7.0</td>\n",
       "      <td>1</td>\n",
       "    </tr>\n",
       "    <tr>\n",
       "      <th>3</th>\n",
       "      <td>37.0</td>\n",
       "      <td>1.0</td>\n",
       "      <td>3.0</td>\n",
       "      <td>130.0</td>\n",
       "      <td>250.0</td>\n",
       "      <td>0.0</td>\n",
       "      <td>0.0</td>\n",
       "      <td>187.0</td>\n",
       "      <td>0.0</td>\n",
       "      <td>3.5</td>\n",
       "      <td>3.0</td>\n",
       "      <td>0.0</td>\n",
       "      <td>3.0</td>\n",
       "      <td>0</td>\n",
       "    </tr>\n",
       "    <tr>\n",
       "      <th>4</th>\n",
       "      <td>41.0</td>\n",
       "      <td>0.0</td>\n",
       "      <td>2.0</td>\n",
       "      <td>130.0</td>\n",
       "      <td>204.0</td>\n",
       "      <td>0.0</td>\n",
       "      <td>2.0</td>\n",
       "      <td>172.0</td>\n",
       "      <td>0.0</td>\n",
       "      <td>1.4</td>\n",
       "      <td>1.0</td>\n",
       "      <td>0.0</td>\n",
       "      <td>3.0</td>\n",
       "      <td>0</td>\n",
       "    </tr>\n",
       "  </tbody>\n",
       "</table>\n",
       "</div>"
      ],
      "text/plain": [
       "    age  sex   cp  trestbps   chol  fbs  restecg  thalach  exang  oldpeak  \\\n",
       "0  63.0  1.0  1.0     145.0  233.0  1.0      2.0    150.0    0.0      2.3   \n",
       "1  67.0  1.0  4.0     160.0  286.0  0.0      2.0    108.0    1.0      1.5   \n",
       "2  67.0  1.0  4.0     120.0  229.0  0.0      2.0    129.0    1.0      2.6   \n",
       "3  37.0  1.0  3.0     130.0  250.0  0.0      0.0    187.0    0.0      3.5   \n",
       "4  41.0  0.0  2.0     130.0  204.0  0.0      2.0    172.0    0.0      1.4   \n",
       "\n",
       "   slope   ca thal  heart_disease  \n",
       "0    3.0  0.0  6.0              0  \n",
       "1    2.0  3.0  3.0              2  \n",
       "2    2.0  2.0  7.0              1  \n",
       "3    3.0  0.0  3.0              0  \n",
       "4    1.0  0.0  3.0              0  "
      ]
     },
     "execution_count": 5,
     "metadata": {},
     "output_type": "execute_result"
    }
   ],
   "source": [
    "# Exploramos las primeros 5 registros.\n",
    "heart.head()"
   ]
  },
  {
   "cell_type": "code",
   "execution_count": 6,
   "id": "f0575ea3-edf5-4dfd-ad1a-940cd094dbb1",
   "metadata": {},
   "outputs": [
    {
     "data": {
      "text/plain": [
       "age              float64\n",
       "sex              float64\n",
       "cp               float64\n",
       "trestbps         float64\n",
       "chol             float64\n",
       "fbs              float64\n",
       "restecg          float64\n",
       "thalach          float64\n",
       "exang            float64\n",
       "oldpeak          float64\n",
       "slope            float64\n",
       "ca                object\n",
       "thal              object\n",
       "heart_disease      int64\n",
       "dtype: object"
      ]
     },
     "execution_count": 6,
     "metadata": {},
     "output_type": "execute_result"
    }
   ],
   "source": [
    "# Muestra los tipos de datos\n",
    "heart.dtypes"
   ]
  },
  {
   "cell_type": "code",
   "execution_count": 7,
   "id": "8dc47b5d-64f7-4dc7-9375-39d32038c879",
   "metadata": {},
   "outputs": [
    {
     "data": {
      "text/html": [
       "<div>\n",
       "<style scoped>\n",
       "    .dataframe tbody tr th:only-of-type {\n",
       "        vertical-align: middle;\n",
       "    }\n",
       "\n",
       "    .dataframe tbody tr th {\n",
       "        vertical-align: top;\n",
       "    }\n",
       "\n",
       "    .dataframe thead th {\n",
       "        text-align: right;\n",
       "    }\n",
       "</style>\n",
       "<table border=\"1\" class=\"dataframe\">\n",
       "  <thead>\n",
       "    <tr style=\"text-align: right;\">\n",
       "      <th></th>\n",
       "      <th>age</th>\n",
       "      <th>sex</th>\n",
       "      <th>cp</th>\n",
       "      <th>trestbps</th>\n",
       "      <th>chol</th>\n",
       "      <th>fbs</th>\n",
       "      <th>restecg</th>\n",
       "      <th>thalach</th>\n",
       "      <th>exang</th>\n",
       "      <th>oldpeak</th>\n",
       "      <th>slope</th>\n",
       "      <th>ca</th>\n",
       "      <th>thal</th>\n",
       "      <th>heart_disease</th>\n",
       "    </tr>\n",
       "  </thead>\n",
       "  <tbody>\n",
       "    <tr>\n",
       "      <th>count</th>\n",
       "      <td>303.000000</td>\n",
       "      <td>303.000000</td>\n",
       "      <td>303.000000</td>\n",
       "      <td>303.000000</td>\n",
       "      <td>303.000000</td>\n",
       "      <td>303.000000</td>\n",
       "      <td>303.000000</td>\n",
       "      <td>303.000000</td>\n",
       "      <td>303.000000</td>\n",
       "      <td>303.000000</td>\n",
       "      <td>303.000000</td>\n",
       "      <td>303</td>\n",
       "      <td>303</td>\n",
       "      <td>303.000000</td>\n",
       "    </tr>\n",
       "    <tr>\n",
       "      <th>unique</th>\n",
       "      <td>NaN</td>\n",
       "      <td>NaN</td>\n",
       "      <td>NaN</td>\n",
       "      <td>NaN</td>\n",
       "      <td>NaN</td>\n",
       "      <td>NaN</td>\n",
       "      <td>NaN</td>\n",
       "      <td>NaN</td>\n",
       "      <td>NaN</td>\n",
       "      <td>NaN</td>\n",
       "      <td>NaN</td>\n",
       "      <td>5</td>\n",
       "      <td>4</td>\n",
       "      <td>NaN</td>\n",
       "    </tr>\n",
       "    <tr>\n",
       "      <th>top</th>\n",
       "      <td>NaN</td>\n",
       "      <td>NaN</td>\n",
       "      <td>NaN</td>\n",
       "      <td>NaN</td>\n",
       "      <td>NaN</td>\n",
       "      <td>NaN</td>\n",
       "      <td>NaN</td>\n",
       "      <td>NaN</td>\n",
       "      <td>NaN</td>\n",
       "      <td>NaN</td>\n",
       "      <td>NaN</td>\n",
       "      <td>0.0</td>\n",
       "      <td>3.0</td>\n",
       "      <td>NaN</td>\n",
       "    </tr>\n",
       "    <tr>\n",
       "      <th>freq</th>\n",
       "      <td>NaN</td>\n",
       "      <td>NaN</td>\n",
       "      <td>NaN</td>\n",
       "      <td>NaN</td>\n",
       "      <td>NaN</td>\n",
       "      <td>NaN</td>\n",
       "      <td>NaN</td>\n",
       "      <td>NaN</td>\n",
       "      <td>NaN</td>\n",
       "      <td>NaN</td>\n",
       "      <td>NaN</td>\n",
       "      <td>176</td>\n",
       "      <td>166</td>\n",
       "      <td>NaN</td>\n",
       "    </tr>\n",
       "    <tr>\n",
       "      <th>mean</th>\n",
       "      <td>54.438944</td>\n",
       "      <td>0.679868</td>\n",
       "      <td>3.158416</td>\n",
       "      <td>131.689769</td>\n",
       "      <td>246.693069</td>\n",
       "      <td>0.148515</td>\n",
       "      <td>0.990099</td>\n",
       "      <td>149.607261</td>\n",
       "      <td>0.326733</td>\n",
       "      <td>1.039604</td>\n",
       "      <td>1.600660</td>\n",
       "      <td>NaN</td>\n",
       "      <td>NaN</td>\n",
       "      <td>0.937294</td>\n",
       "    </tr>\n",
       "    <tr>\n",
       "      <th>std</th>\n",
       "      <td>9.038662</td>\n",
       "      <td>0.467299</td>\n",
       "      <td>0.960126</td>\n",
       "      <td>17.599748</td>\n",
       "      <td>51.776918</td>\n",
       "      <td>0.356198</td>\n",
       "      <td>0.994971</td>\n",
       "      <td>22.875003</td>\n",
       "      <td>0.469794</td>\n",
       "      <td>1.161075</td>\n",
       "      <td>0.616226</td>\n",
       "      <td>NaN</td>\n",
       "      <td>NaN</td>\n",
       "      <td>1.228536</td>\n",
       "    </tr>\n",
       "    <tr>\n",
       "      <th>min</th>\n",
       "      <td>29.000000</td>\n",
       "      <td>0.000000</td>\n",
       "      <td>1.000000</td>\n",
       "      <td>94.000000</td>\n",
       "      <td>126.000000</td>\n",
       "      <td>0.000000</td>\n",
       "      <td>0.000000</td>\n",
       "      <td>71.000000</td>\n",
       "      <td>0.000000</td>\n",
       "      <td>0.000000</td>\n",
       "      <td>1.000000</td>\n",
       "      <td>NaN</td>\n",
       "      <td>NaN</td>\n",
       "      <td>0.000000</td>\n",
       "    </tr>\n",
       "    <tr>\n",
       "      <th>25%</th>\n",
       "      <td>48.000000</td>\n",
       "      <td>0.000000</td>\n",
       "      <td>3.000000</td>\n",
       "      <td>120.000000</td>\n",
       "      <td>211.000000</td>\n",
       "      <td>0.000000</td>\n",
       "      <td>0.000000</td>\n",
       "      <td>133.500000</td>\n",
       "      <td>0.000000</td>\n",
       "      <td>0.000000</td>\n",
       "      <td>1.000000</td>\n",
       "      <td>NaN</td>\n",
       "      <td>NaN</td>\n",
       "      <td>0.000000</td>\n",
       "    </tr>\n",
       "    <tr>\n",
       "      <th>50%</th>\n",
       "      <td>56.000000</td>\n",
       "      <td>1.000000</td>\n",
       "      <td>3.000000</td>\n",
       "      <td>130.000000</td>\n",
       "      <td>241.000000</td>\n",
       "      <td>0.000000</td>\n",
       "      <td>1.000000</td>\n",
       "      <td>153.000000</td>\n",
       "      <td>0.000000</td>\n",
       "      <td>0.800000</td>\n",
       "      <td>2.000000</td>\n",
       "      <td>NaN</td>\n",
       "      <td>NaN</td>\n",
       "      <td>0.000000</td>\n",
       "    </tr>\n",
       "    <tr>\n",
       "      <th>75%</th>\n",
       "      <td>61.000000</td>\n",
       "      <td>1.000000</td>\n",
       "      <td>4.000000</td>\n",
       "      <td>140.000000</td>\n",
       "      <td>275.000000</td>\n",
       "      <td>0.000000</td>\n",
       "      <td>2.000000</td>\n",
       "      <td>166.000000</td>\n",
       "      <td>1.000000</td>\n",
       "      <td>1.600000</td>\n",
       "      <td>2.000000</td>\n",
       "      <td>NaN</td>\n",
       "      <td>NaN</td>\n",
       "      <td>2.000000</td>\n",
       "    </tr>\n",
       "    <tr>\n",
       "      <th>max</th>\n",
       "      <td>77.000000</td>\n",
       "      <td>1.000000</td>\n",
       "      <td>4.000000</td>\n",
       "      <td>200.000000</td>\n",
       "      <td>564.000000</td>\n",
       "      <td>1.000000</td>\n",
       "      <td>2.000000</td>\n",
       "      <td>202.000000</td>\n",
       "      <td>1.000000</td>\n",
       "      <td>6.200000</td>\n",
       "      <td>3.000000</td>\n",
       "      <td>NaN</td>\n",
       "      <td>NaN</td>\n",
       "      <td>4.000000</td>\n",
       "    </tr>\n",
       "  </tbody>\n",
       "</table>\n",
       "</div>"
      ],
      "text/plain": [
       "               age         sex          cp    trestbps        chol  \\\n",
       "count   303.000000  303.000000  303.000000  303.000000  303.000000   \n",
       "unique         NaN         NaN         NaN         NaN         NaN   \n",
       "top            NaN         NaN         NaN         NaN         NaN   \n",
       "freq           NaN         NaN         NaN         NaN         NaN   \n",
       "mean     54.438944    0.679868    3.158416  131.689769  246.693069   \n",
       "std       9.038662    0.467299    0.960126   17.599748   51.776918   \n",
       "min      29.000000    0.000000    1.000000   94.000000  126.000000   \n",
       "25%      48.000000    0.000000    3.000000  120.000000  211.000000   \n",
       "50%      56.000000    1.000000    3.000000  130.000000  241.000000   \n",
       "75%      61.000000    1.000000    4.000000  140.000000  275.000000   \n",
       "max      77.000000    1.000000    4.000000  200.000000  564.000000   \n",
       "\n",
       "               fbs     restecg     thalach       exang     oldpeak  \\\n",
       "count   303.000000  303.000000  303.000000  303.000000  303.000000   \n",
       "unique         NaN         NaN         NaN         NaN         NaN   \n",
       "top            NaN         NaN         NaN         NaN         NaN   \n",
       "freq           NaN         NaN         NaN         NaN         NaN   \n",
       "mean      0.148515    0.990099  149.607261    0.326733    1.039604   \n",
       "std       0.356198    0.994971   22.875003    0.469794    1.161075   \n",
       "min       0.000000    0.000000   71.000000    0.000000    0.000000   \n",
       "25%       0.000000    0.000000  133.500000    0.000000    0.000000   \n",
       "50%       0.000000    1.000000  153.000000    0.000000    0.800000   \n",
       "75%       0.000000    2.000000  166.000000    1.000000    1.600000   \n",
       "max       1.000000    2.000000  202.000000    1.000000    6.200000   \n",
       "\n",
       "             slope   ca thal  heart_disease  \n",
       "count   303.000000  303  303     303.000000  \n",
       "unique         NaN    5    4            NaN  \n",
       "top            NaN  0.0  3.0            NaN  \n",
       "freq           NaN  176  166            NaN  \n",
       "mean      1.600660  NaN  NaN       0.937294  \n",
       "std       0.616226  NaN  NaN       1.228536  \n",
       "min       1.000000  NaN  NaN       0.000000  \n",
       "25%       1.000000  NaN  NaN       0.000000  \n",
       "50%       2.000000  NaN  NaN       0.000000  \n",
       "75%       2.000000  NaN  NaN       2.000000  \n",
       "max       3.000000  NaN  NaN       4.000000  "
      ]
     },
     "execution_count": 7,
     "metadata": {},
     "output_type": "execute_result"
    }
   ],
   "source": [
    "# Visualizamos un resumen estadistico de los datos\n",
    "heart.describe(include=\"all\")"
   ]
  },
  {
   "cell_type": "code",
   "execution_count": 8,
   "id": "07fbd885-ead1-4032-8181-bf1267d9aecf",
   "metadata": {},
   "outputs": [
    {
     "name": "stdout",
     "output_type": "stream",
     "text": [
      "<class 'pandas.core.frame.DataFrame'>\n",
      "RangeIndex: 303 entries, 0 to 302\n",
      "Data columns (total 14 columns):\n",
      " #   Column         Non-Null Count  Dtype  \n",
      "---  ------         --------------  -----  \n",
      " 0   age            303 non-null    float64\n",
      " 1   sex            303 non-null    float64\n",
      " 2   cp             303 non-null    float64\n",
      " 3   trestbps       303 non-null    float64\n",
      " 4   chol           303 non-null    float64\n",
      " 5   fbs            303 non-null    float64\n",
      " 6   restecg        303 non-null    float64\n",
      " 7   thalach        303 non-null    float64\n",
      " 8   exang          303 non-null    float64\n",
      " 9   oldpeak        303 non-null    float64\n",
      " 10  slope          303 non-null    float64\n",
      " 11  ca             303 non-null    object \n",
      " 12  thal           303 non-null    object \n",
      " 13  heart_disease  303 non-null    int64  \n",
      "dtypes: float64(11), int64(1), object(2)\n",
      "memory usage: 33.3+ KB\n"
     ]
    }
   ],
   "source": [
    "# Mostramos información general sobre el DataFrame\n",
    "heart.info()"
   ]
  },
  {
   "cell_type": "markdown",
   "id": "746860ff-d6a7-4c16-bd27-003fe02bd751",
   "metadata": {},
   "source": [
    "\n",
    "Al explorar los datos, observamos que la gran mayoría de las columnas contienen valores numéricos. Sin embargo, según la documentación del dataset, sabemos que hay 5 variables categóricas. Es importante revisar cómo están almacenados estos datos y asegurarnos de que no haya valores inesperados o nulos en estas columnas.\n",
    "\n",
    "### 2. Identificación, manejo de valores nulos e inesperados"
   ]
  },
  {
   "cell_type": "code",
   "execution_count": 10,
   "id": "020c2847-164a-4f04-a533-49985b43b5c9",
   "metadata": {},
   "outputs": [
    {
     "data": {
      "text/plain": [
       "age              0\n",
       "sex              0\n",
       "cp               0\n",
       "trestbps         0\n",
       "chol             0\n",
       "fbs              0\n",
       "restecg          0\n",
       "thalach          0\n",
       "exang            0\n",
       "oldpeak          0\n",
       "slope            0\n",
       "ca               0\n",
       "thal             0\n",
       "heart_disease    0\n",
       "dtype: int64"
      ]
     },
     "execution_count": 10,
     "metadata": {},
     "output_type": "execute_result"
    }
   ],
   "source": [
    "# Verificamos si hay valores nulos \n",
    "heart.isnull().sum()"
   ]
  },
  {
   "cell_type": "code",
   "execution_count": 11,
   "id": "8f0c7151-1f56-405b-b35e-b1906a67714e",
   "metadata": {},
   "outputs": [
    {
     "data": {
      "text/plain": [
       "sex\n",
       "1.0    206\n",
       "0.0     97\n",
       "Name: count, dtype: int64"
      ]
     },
     "execution_count": 11,
     "metadata": {},
     "output_type": "execute_result"
    }
   ],
   "source": [
    "# Verificamos valores unicos en las variables categoricas\n",
    "heart[\"sex\"].value_counts( dropna = False)"
   ]
  },
  {
   "cell_type": "code",
   "execution_count": 12,
   "id": "ff3a3f29-483a-4f26-8a1b-ae2039ebfa79",
   "metadata": {},
   "outputs": [
    {
     "data": {
      "text/plain": [
       "cp\n",
       "4.0    144\n",
       "3.0     86\n",
       "2.0     50\n",
       "1.0     23\n",
       "Name: count, dtype: int64"
      ]
     },
     "execution_count": 12,
     "metadata": {},
     "output_type": "execute_result"
    }
   ],
   "source": [
    "heart[\"cp\"].value_counts( dropna = False)"
   ]
  },
  {
   "cell_type": "code",
   "execution_count": 13,
   "id": "f186399f-b011-478f-a64b-df9ba546658d",
   "metadata": {},
   "outputs": [
    {
     "data": {
      "text/plain": [
       "restecg\n",
       "0.0    151\n",
       "2.0    148\n",
       "1.0      4\n",
       "Name: count, dtype: int64"
      ]
     },
     "execution_count": 13,
     "metadata": {},
     "output_type": "execute_result"
    }
   ],
   "source": [
    "heart[\"restecg\"].value_counts( dropna = False)"
   ]
  },
  {
   "cell_type": "code",
   "execution_count": 14,
   "id": "09146044-b368-4665-b3dc-3e23989d49e8",
   "metadata": {},
   "outputs": [
    {
     "data": {
      "text/plain": [
       "slope\n",
       "1.0    142\n",
       "2.0    140\n",
       "3.0     21\n",
       "Name: count, dtype: int64"
      ]
     },
     "execution_count": 14,
     "metadata": {},
     "output_type": "execute_result"
    }
   ],
   "source": [
    "heart[\"slope\"].value_counts( dropna = False)"
   ]
  },
  {
   "cell_type": "code",
   "execution_count": 15,
   "id": "37c635af-23eb-4579-a456-a92b806a1041",
   "metadata": {},
   "outputs": [
    {
     "data": {
      "text/plain": [
       "thal\n",
       "3.0    166\n",
       "7.0    117\n",
       "6.0     18\n",
       "?        2\n",
       "Name: count, dtype: int64"
      ]
     },
     "execution_count": 15,
     "metadata": {},
     "output_type": "execute_result"
    }
   ],
   "source": [
    "heart[\"thal\"].value_counts( dropna = False)"
   ]
  },
  {
   "cell_type": "code",
   "execution_count": 16,
   "id": "3b9091c3-92e8-4fb3-b864-960fd0821857",
   "metadata": {},
   "outputs": [
    {
     "data": {
      "text/plain": [
       "heart_disease\n",
       "0    164\n",
       "1     55\n",
       "2     36\n",
       "3     35\n",
       "4     13\n",
       "Name: count, dtype: int64"
      ]
     },
     "execution_count": 16,
     "metadata": {},
     "output_type": "execute_result"
    }
   ],
   "source": [
    "heart[\"heart_disease\"].value_counts( dropna = False)"
   ]
  },
  {
   "cell_type": "markdown",
   "id": "950add69-adb4-486f-886b-ad6583e51b34",
   "metadata": {},
   "source": [
    "**Encontramos un \"?\" como dato dentro de la variable \"thal\".**"
   ]
  },
  {
   "cell_type": "code",
   "execution_count": 18,
   "id": "014f238a-f027-4944-9352-19f85b6ecc87",
   "metadata": {},
   "outputs": [
    {
     "data": {
      "text/html": [
       "<div>\n",
       "<style scoped>\n",
       "    .dataframe tbody tr th:only-of-type {\n",
       "        vertical-align: middle;\n",
       "    }\n",
       "\n",
       "    .dataframe tbody tr th {\n",
       "        vertical-align: top;\n",
       "    }\n",
       "\n",
       "    .dataframe thead th {\n",
       "        text-align: right;\n",
       "    }\n",
       "</style>\n",
       "<table border=\"1\" class=\"dataframe\">\n",
       "  <thead>\n",
       "    <tr style=\"text-align: right;\">\n",
       "      <th></th>\n",
       "      <th>age</th>\n",
       "      <th>sex</th>\n",
       "      <th>cp</th>\n",
       "      <th>trestbps</th>\n",
       "      <th>chol</th>\n",
       "      <th>fbs</th>\n",
       "      <th>restecg</th>\n",
       "      <th>thalach</th>\n",
       "      <th>exang</th>\n",
       "      <th>oldpeak</th>\n",
       "      <th>slope</th>\n",
       "      <th>ca</th>\n",
       "      <th>thal</th>\n",
       "      <th>heart_disease</th>\n",
       "    </tr>\n",
       "  </thead>\n",
       "  <tbody>\n",
       "    <tr>\n",
       "      <th>87</th>\n",
       "      <td>53.0</td>\n",
       "      <td>0.0</td>\n",
       "      <td>3.0</td>\n",
       "      <td>128.0</td>\n",
       "      <td>216.0</td>\n",
       "      <td>0.0</td>\n",
       "      <td>2.0</td>\n",
       "      <td>115.0</td>\n",
       "      <td>0.0</td>\n",
       "      <td>0.0</td>\n",
       "      <td>1.0</td>\n",
       "      <td>0.0</td>\n",
       "      <td>?</td>\n",
       "      <td>0</td>\n",
       "    </tr>\n",
       "    <tr>\n",
       "      <th>266</th>\n",
       "      <td>52.0</td>\n",
       "      <td>1.0</td>\n",
       "      <td>4.0</td>\n",
       "      <td>128.0</td>\n",
       "      <td>204.0</td>\n",
       "      <td>1.0</td>\n",
       "      <td>0.0</td>\n",
       "      <td>156.0</td>\n",
       "      <td>1.0</td>\n",
       "      <td>1.0</td>\n",
       "      <td>2.0</td>\n",
       "      <td>0.0</td>\n",
       "      <td>?</td>\n",
       "      <td>2</td>\n",
       "    </tr>\n",
       "  </tbody>\n",
       "</table>\n",
       "</div>"
      ],
      "text/plain": [
       "      age  sex   cp  trestbps   chol  fbs  restecg  thalach  exang  oldpeak  \\\n",
       "87   53.0  0.0  3.0     128.0  216.0  0.0      2.0    115.0    0.0      0.0   \n",
       "266  52.0  1.0  4.0     128.0  204.0  1.0      0.0    156.0    1.0      1.0   \n",
       "\n",
       "     slope   ca thal  heart_disease  \n",
       "87     1.0  0.0    ?              0  \n",
       "266    2.0  0.0    ?              2  "
      ]
     },
     "execution_count": 18,
     "metadata": {},
     "output_type": "execute_result"
    }
   ],
   "source": [
    "heart[heart.thal == \"?\"]"
   ]
  },
  {
   "cell_type": "markdown",
   "id": "42c44ed6-c2b7-459b-9893-fc935f6fc4ba",
   "metadata": {},
   "source": [
    "**Es posible que los valores vacíos o nulos estén almacenados como un signo de \"?\" en el dataset. Además, hemos notado que la variable \"thal\", a pesar de contener valores numéricos, está almacenada como un tipo de dato object, probablemente debido a la presencia de dicho signo de \"?\" en algunas filas.**\n"
   ]
  },
  {
   "cell_type": "code",
   "execution_count": 20,
   "id": "1dd2b800-a0f4-4a13-8d06-c7bea8205273",
   "metadata": {},
   "outputs": [],
   "source": [
    "# Reemplazamos todos los valores = \"?\" dentro de nuestro dataset en valores nulos.\n",
    "heart = heart.replace(\"?\", np.nan)"
   ]
  },
  {
   "cell_type": "code",
   "execution_count": 21,
   "id": "0d10674d-81bb-48ae-8025-5071fd294eef",
   "metadata": {},
   "outputs": [
    {
     "data": {
      "text/plain": [
       "age              0\n",
       "sex              0\n",
       "cp               0\n",
       "trestbps         0\n",
       "chol             0\n",
       "fbs              0\n",
       "restecg          0\n",
       "thalach          0\n",
       "exang            0\n",
       "oldpeak          0\n",
       "slope            0\n",
       "ca               4\n",
       "thal             2\n",
       "heart_disease    0\n",
       "dtype: int64"
      ]
     },
     "execution_count": 21,
     "metadata": {},
     "output_type": "execute_result"
    }
   ],
   "source": [
    "# Verificamos nuevamente si hay valores nulos \n",
    "heart.isnull().sum()"
   ]
  },
  {
   "cell_type": "markdown",
   "id": "0803bd8c-e786-4ef4-ba0d-6204c9abfdbc",
   "metadata": {},
   "source": [
    "**Dado que las variables categóricas contienen un número muy pequeño de valores nulos, he decidido reemplazarlos con la moda de cada columna, ya que esto mantiene la coherencia de los datos sin alterar significativamente la distribución de las categorías.**"
   ]
  },
  {
   "cell_type": "code",
   "execution_count": 23,
   "id": "1a93812d-ce59-470d-9e22-3b53e9f662e6",
   "metadata": {},
   "outputs": [
    {
     "data": {
      "text/plain": [
       "thal\n",
       "3.0    166\n",
       "7.0    117\n",
       "6.0     18\n",
       "NaN      2\n",
       "Name: count, dtype: int64"
      ]
     },
     "execution_count": 23,
     "metadata": {},
     "output_type": "execute_result"
    }
   ],
   "source": [
    "heart[\"thal\"].value_counts(dropna = False)"
   ]
  },
  {
   "cell_type": "code",
   "execution_count": 24,
   "id": "c9cf571b-d181-4472-8377-8bfcc4566f4b",
   "metadata": {},
   "outputs": [
    {
     "name": "stdout",
     "output_type": "stream",
     "text": [
      "0    3.0\n",
      "Name: thal, dtype: object\n"
     ]
    }
   ],
   "source": [
    "# Verificamos que la \"moda\" de la columna \"thal\" es \"3.0\"\n",
    "mode_thal = heart[\"thal\"].mode()\n",
    "print(mode_thal)"
   ]
  },
  {
   "cell_type": "code",
   "execution_count": 25,
   "id": "275b9abb-2cbd-43d0-8b1e-621f9e21063b",
   "metadata": {},
   "outputs": [],
   "source": [
    "# Reemplazamos los valores\n",
    "heart[\"thal\"] = heart['thal'].fillna(mode_thal[0])"
   ]
  },
  {
   "cell_type": "code",
   "execution_count": 26,
   "id": "d332e1b9-53d3-48e9-8cc4-4704fb0440ac",
   "metadata": {},
   "outputs": [
    {
     "data": {
      "text/plain": [
       "thal\n",
       "3.0    168\n",
       "7.0    117\n",
       "6.0     18\n",
       "Name: count, dtype: int64"
      ]
     },
     "execution_count": 26,
     "metadata": {},
     "output_type": "execute_result"
    }
   ],
   "source": [
    "# Verificamos que se hayan reemplazado los valores\n",
    "heart[\"thal\"].value_counts(dropna = False)"
   ]
  },
  {
   "cell_type": "code",
   "execution_count": 27,
   "id": "8073b356-68f9-4d77-b439-d952100496bc",
   "metadata": {},
   "outputs": [
    {
     "name": "stdout",
     "output_type": "stream",
     "text": [
      "0    0.0\n",
      "Name: ca, dtype: object\n"
     ]
    }
   ],
   "source": [
    "# Realizamos los mismo pasos con la columna \"ca\"\n",
    "mode_ca = heart[\"ca\"].mode()\n",
    "print(mode_ca)"
   ]
  },
  {
   "cell_type": "code",
   "execution_count": 28,
   "id": "e3e89c27-7fee-416b-92f4-ba58bc15d49b",
   "metadata": {},
   "outputs": [
    {
     "data": {
      "text/plain": [
       "ca\n",
       "0.0    176\n",
       "1.0     65\n",
       "2.0     38\n",
       "3.0     20\n",
       "NaN      4\n",
       "Name: count, dtype: int64"
      ]
     },
     "execution_count": 28,
     "metadata": {},
     "output_type": "execute_result"
    }
   ],
   "source": [
    "# Verificamos\n",
    "heart[\"ca\"].value_counts(dropna = False)"
   ]
  },
  {
   "cell_type": "code",
   "execution_count": 29,
   "id": "1043f0da-ab6d-4b86-9b44-561620ebbf72",
   "metadata": {},
   "outputs": [],
   "source": [
    "# Reemplazamos los valores\n",
    "heart[\"ca\"] = heart['ca'].fillna(mode_ca[0])"
   ]
  },
  {
   "cell_type": "code",
   "execution_count": 30,
   "id": "a260ca03-3fea-462b-b6a6-da1b9acdc547",
   "metadata": {},
   "outputs": [
    {
     "data": {
      "text/plain": [
       "age              0\n",
       "sex              0\n",
       "cp               0\n",
       "trestbps         0\n",
       "chol             0\n",
       "fbs              0\n",
       "restecg          0\n",
       "thalach          0\n",
       "exang            0\n",
       "oldpeak          0\n",
       "slope            0\n",
       "ca               0\n",
       "thal             0\n",
       "heart_disease    0\n",
       "dtype: int64"
      ]
     },
     "execution_count": 30,
     "metadata": {},
     "output_type": "execute_result"
    }
   ],
   "source": [
    "# Verificamos nuevamente si hay valores nulos \n",
    "heart.isnull().sum()"
   ]
  },
  {
   "cell_type": "markdown",
   "id": "ae01f064-9e51-45bf-b34d-3e5f1c076024",
   "metadata": {},
   "source": [
    "### 3. Revisión y conversión de tipos de datos\n",
    "La mayoría de los datos son de tipo numérico (float), sin embargo, varias columnas categóricas, que están representadas numéricamente, se encuentran almacenadas como tipo 'object'. Procederemos a realizar la conversión a su tipo adecuado."
   ]
  },
  {
   "cell_type": "code",
   "execution_count": 32,
   "id": "dffe89de-c03d-40df-8aa3-aed3fdbac7ce",
   "metadata": {},
   "outputs": [
    {
     "name": "stdout",
     "output_type": "stream",
     "text": [
      "<class 'pandas.core.frame.DataFrame'>\n",
      "RangeIndex: 303 entries, 0 to 302\n",
      "Data columns (total 14 columns):\n",
      " #   Column         Non-Null Count  Dtype  \n",
      "---  ------         --------------  -----  \n",
      " 0   age            303 non-null    float64\n",
      " 1   sex            303 non-null    float64\n",
      " 2   cp             303 non-null    float64\n",
      " 3   trestbps       303 non-null    float64\n",
      " 4   chol           303 non-null    float64\n",
      " 5   fbs            303 non-null    float64\n",
      " 6   restecg        303 non-null    float64\n",
      " 7   thalach        303 non-null    float64\n",
      " 8   exang          303 non-null    float64\n",
      " 9   oldpeak        303 non-null    float64\n",
      " 10  slope          303 non-null    float64\n",
      " 11  ca             303 non-null    object \n",
      " 12  thal           303 non-null    object \n",
      " 13  heart_disease  303 non-null    int64  \n",
      "dtypes: float64(11), int64(1), object(2)\n",
      "memory usage: 33.3+ KB\n"
     ]
    }
   ],
   "source": [
    "heart.info()"
   ]
  },
  {
   "cell_type": "code",
   "execution_count": 33,
   "id": "391cd029-0973-4669-bcaa-33c5456cbb7d",
   "metadata": {},
   "outputs": [],
   "source": [
    "heart[\"ca\"] = heart['ca'].astype(\"float\")\n",
    "heart[\"thal\"] = heart['thal'].astype(\"float\")"
   ]
  },
  {
   "cell_type": "code",
   "execution_count": 34,
   "id": "a668688e-e121-40ea-aa8c-d144c87977f0",
   "metadata": {},
   "outputs": [
    {
     "name": "stdout",
     "output_type": "stream",
     "text": [
      "<class 'pandas.core.frame.DataFrame'>\n",
      "RangeIndex: 303 entries, 0 to 302\n",
      "Data columns (total 14 columns):\n",
      " #   Column         Non-Null Count  Dtype  \n",
      "---  ------         --------------  -----  \n",
      " 0   age            303 non-null    float64\n",
      " 1   sex            303 non-null    float64\n",
      " 2   cp             303 non-null    float64\n",
      " 3   trestbps       303 non-null    float64\n",
      " 4   chol           303 non-null    float64\n",
      " 5   fbs            303 non-null    float64\n",
      " 6   restecg        303 non-null    float64\n",
      " 7   thalach        303 non-null    float64\n",
      " 8   exang          303 non-null    float64\n",
      " 9   oldpeak        303 non-null    float64\n",
      " 10  slope          303 non-null    float64\n",
      " 11  ca             303 non-null    float64\n",
      " 12  thal           303 non-null    float64\n",
      " 13  heart_disease  303 non-null    int64  \n",
      "dtypes: float64(13), int64(1)\n",
      "memory usage: 33.3 KB\n"
     ]
    }
   ],
   "source": [
    "heart.info()"
   ]
  },
  {
   "cell_type": "markdown",
   "id": "e814b26c-703e-4c85-82d3-b2c2ef8076f9",
   "metadata": {},
   "source": [
    "### 4. Conversión a etiquetas descriptivas de variables categóricas: \n",
    "Después de haber manejado los valores nulos y la conversión de tipos de datos, ahora podemos proceder a reemplazar los valores numéricos en las columnas categóricas (como cp, restecg, exang, etc.) por sus descripciones correspondientes."
   ]
  },
  {
   "cell_type": "code",
   "execution_count": 36,
   "id": "afdff3e5-1583-4d8c-bdf4-6372964cbdad",
   "metadata": {},
   "outputs": [],
   "source": [
    "# \"sex\" cuenta con los siguientes valores:\n",
    "# - 0.0 : female\n",
    "# - 1.0 : male\n",
    "\n",
    "heart[\"sex\"] = heart[\"sex\"].replace({0.0: 'female', 1.0:'male'})"
   ]
  },
  {
   "cell_type": "code",
   "execution_count": 37,
   "id": "54ebbd38-b18e-4746-9f0b-ffce8e619c5e",
   "metadata": {},
   "outputs": [],
   "source": [
    "# \"cp\" cuenta con los siguientes valores:\n",
    "# - 1.0 : typical angina\n",
    "# - 2.0 : atypical angina\n",
    "# - 3.0 : non-anginal pain\n",
    "# - 4.0 : asymptomatic\n",
    "\n",
    "heart[\"cp\"] = heart[\"cp\"].replace({1.0: 'typical angina', 2.0:'atypical angina', 3.0: 'non-anginal pain', 4.0: 'asymptomatic'})"
   ]
  },
  {
   "cell_type": "code",
   "execution_count": 38,
   "id": "22f0155b-05a2-48b6-ab55-58d362478b7f",
   "metadata": {},
   "outputs": [],
   "source": [
    "# \"slope\" cuenta con los siguientes valores:\n",
    "# 1.0 : upsloping\n",
    "# 2.0 : flat\n",
    "# 3.0 : downsloping\n",
    "\n",
    "heart[\"slope\"] = heart[\"slope\"].replace({1.0 : \"upsloping\", 2.0 : \"flat\", 3.0 : \"downsloping\" })"
   ]
  },
  {
   "cell_type": "code",
   "execution_count": 39,
   "id": "32b66ffa-3bac-48a6-9111-cfc2473d09ba",
   "metadata": {},
   "outputs": [],
   "source": [
    "# Al ser una variable categorica ordinal, podemos definir que tiene cierto orden.\n",
    "# Trasformamos la columna \"slope\" en una de tipo categorica y definimos el orden correspondiente.\n",
    "\n",
    "heart[\"slope\"] = pd.Categorical(heart[\"slope\"], ['upsloping', 'flat', 'downsloping'], ordered = True )"
   ]
  },
  {
   "cell_type": "code",
   "execution_count": 40,
   "id": "610999d1-cc19-4ddf-a451-1bd98cf01075",
   "metadata": {},
   "outputs": [],
   "source": [
    "heart[\"restecg\"] = heart[\"restecg\"].replace({0.0: 'normal', 1.0:'ST-T wave abnormality', 2.0: 'left ventricular hypertrophy'})"
   ]
  },
  {
   "cell_type": "code",
   "execution_count": 41,
   "id": "96cc1bed-d3db-4dab-a17f-c42c7caca425",
   "metadata": {},
   "outputs": [],
   "source": [
    "heart[\"thal\"] = heart[\"thal\"].replace({3.0:'normal', 6.0:'fixed defect', 7.0:'reversable defect'})\n"
   ]
  },
  {
   "cell_type": "markdown",
   "id": "47f37e56-4e6e-4087-8e3e-1bced48bf080",
   "metadata": {},
   "source": [
    "**Tratamiento de la variable heart_disease**\n",
    "La variable heart_disease en el conjunto de datos representa el diagnóstico de la presencia de enfermedad cardíaca en los pacientes. Originalmente, se encuentra codificada con valores enteros entre 0 y 4, donde:\n",
    "\n",
    "0 indica ausencia de enfermedad cardíaca (menos del 50% de estrechamiento de las arterias).\n",
    "1 a 4 indican diferentes grados de presencia de enfermedad cardíaca (más del 50% de estrechamiento en las arterias).\n",
    "Para simplificar el análisis y facilitar la clasificación en el modelo de machine learning, decidí transformar la variable heart_disease en binaria. En este caso, la presencia de enfermedad cardíaca se codifica como 'presence' y la ausencia como 'absence'. De esta manera, el valor 0 se asigna a 'absence', y todos los valores mayores a 0 se asignan a 'presence'.\n",
    "\n",
    "Esta transformación permite enfocar el análisis en la presencia o ausencia de enfermedad cardíaca, lo que es generalmente más relevante para los modelos de clasificación que buscan identificar si un paciente tiene o no enfermedad. Esta conversión mejora la claridad del análisis y simplifica la interpretación de los resultados, alineándose con los objetivos clínicos de diagnóstico."
   ]
  },
  {
   "cell_type": "code",
   "execution_count": 43,
   "id": "1397e909-a22e-4cf0-b42a-26b7af332863",
   "metadata": {},
   "outputs": [],
   "source": [
    "heart[\"heart_disease\"] = np.where(heart[\"heart_disease\"] == 0, 'absence', 'presence')"
   ]
  },
  {
   "cell_type": "code",
   "execution_count": 44,
   "id": "b9b3e742-35f3-4745-af45-7ed9d23b53e0",
   "metadata": {},
   "outputs": [
    {
     "data": {
      "text/html": [
       "<div>\n",
       "<style scoped>\n",
       "    .dataframe tbody tr th:only-of-type {\n",
       "        vertical-align: middle;\n",
       "    }\n",
       "\n",
       "    .dataframe tbody tr th {\n",
       "        vertical-align: top;\n",
       "    }\n",
       "\n",
       "    .dataframe thead th {\n",
       "        text-align: right;\n",
       "    }\n",
       "</style>\n",
       "<table border=\"1\" class=\"dataframe\">\n",
       "  <thead>\n",
       "    <tr style=\"text-align: right;\">\n",
       "      <th></th>\n",
       "      <th>age</th>\n",
       "      <th>sex</th>\n",
       "      <th>cp</th>\n",
       "      <th>trestbps</th>\n",
       "      <th>chol</th>\n",
       "      <th>fbs</th>\n",
       "      <th>restecg</th>\n",
       "      <th>thalach</th>\n",
       "      <th>exang</th>\n",
       "      <th>oldpeak</th>\n",
       "      <th>slope</th>\n",
       "      <th>ca</th>\n",
       "      <th>thal</th>\n",
       "      <th>heart_disease</th>\n",
       "    </tr>\n",
       "  </thead>\n",
       "  <tbody>\n",
       "    <tr>\n",
       "      <th>0</th>\n",
       "      <td>63.0</td>\n",
       "      <td>male</td>\n",
       "      <td>typical angina</td>\n",
       "      <td>145.0</td>\n",
       "      <td>233.0</td>\n",
       "      <td>1.0</td>\n",
       "      <td>left ventricular hypertrophy</td>\n",
       "      <td>150.0</td>\n",
       "      <td>0.0</td>\n",
       "      <td>2.3</td>\n",
       "      <td>downsloping</td>\n",
       "      <td>0.0</td>\n",
       "      <td>fixed defect</td>\n",
       "      <td>absence</td>\n",
       "    </tr>\n",
       "    <tr>\n",
       "      <th>1</th>\n",
       "      <td>67.0</td>\n",
       "      <td>male</td>\n",
       "      <td>asymptomatic</td>\n",
       "      <td>160.0</td>\n",
       "      <td>286.0</td>\n",
       "      <td>0.0</td>\n",
       "      <td>left ventricular hypertrophy</td>\n",
       "      <td>108.0</td>\n",
       "      <td>1.0</td>\n",
       "      <td>1.5</td>\n",
       "      <td>flat</td>\n",
       "      <td>3.0</td>\n",
       "      <td>normal</td>\n",
       "      <td>presence</td>\n",
       "    </tr>\n",
       "    <tr>\n",
       "      <th>2</th>\n",
       "      <td>67.0</td>\n",
       "      <td>male</td>\n",
       "      <td>asymptomatic</td>\n",
       "      <td>120.0</td>\n",
       "      <td>229.0</td>\n",
       "      <td>0.0</td>\n",
       "      <td>left ventricular hypertrophy</td>\n",
       "      <td>129.0</td>\n",
       "      <td>1.0</td>\n",
       "      <td>2.6</td>\n",
       "      <td>flat</td>\n",
       "      <td>2.0</td>\n",
       "      <td>reversable defect</td>\n",
       "      <td>presence</td>\n",
       "    </tr>\n",
       "    <tr>\n",
       "      <th>3</th>\n",
       "      <td>37.0</td>\n",
       "      <td>male</td>\n",
       "      <td>non-anginal pain</td>\n",
       "      <td>130.0</td>\n",
       "      <td>250.0</td>\n",
       "      <td>0.0</td>\n",
       "      <td>normal</td>\n",
       "      <td>187.0</td>\n",
       "      <td>0.0</td>\n",
       "      <td>3.5</td>\n",
       "      <td>downsloping</td>\n",
       "      <td>0.0</td>\n",
       "      <td>normal</td>\n",
       "      <td>absence</td>\n",
       "    </tr>\n",
       "    <tr>\n",
       "      <th>4</th>\n",
       "      <td>41.0</td>\n",
       "      <td>female</td>\n",
       "      <td>atypical angina</td>\n",
       "      <td>130.0</td>\n",
       "      <td>204.0</td>\n",
       "      <td>0.0</td>\n",
       "      <td>left ventricular hypertrophy</td>\n",
       "      <td>172.0</td>\n",
       "      <td>0.0</td>\n",
       "      <td>1.4</td>\n",
       "      <td>upsloping</td>\n",
       "      <td>0.0</td>\n",
       "      <td>normal</td>\n",
       "      <td>absence</td>\n",
       "    </tr>\n",
       "  </tbody>\n",
       "</table>\n",
       "</div>"
      ],
      "text/plain": [
       "    age     sex                cp  trestbps   chol  fbs  \\\n",
       "0  63.0    male    typical angina     145.0  233.0  1.0   \n",
       "1  67.0    male      asymptomatic     160.0  286.0  0.0   \n",
       "2  67.0    male      asymptomatic     120.0  229.0  0.0   \n",
       "3  37.0    male  non-anginal pain     130.0  250.0  0.0   \n",
       "4  41.0  female   atypical angina     130.0  204.0  0.0   \n",
       "\n",
       "                        restecg  thalach  exang  oldpeak        slope   ca  \\\n",
       "0  left ventricular hypertrophy    150.0    0.0      2.3  downsloping  0.0   \n",
       "1  left ventricular hypertrophy    108.0    1.0      1.5         flat  3.0   \n",
       "2  left ventricular hypertrophy    129.0    1.0      2.6         flat  2.0   \n",
       "3                        normal    187.0    0.0      3.5  downsloping  0.0   \n",
       "4  left ventricular hypertrophy    172.0    0.0      1.4    upsloping  0.0   \n",
       "\n",
       "                thal heart_disease  \n",
       "0       fixed defect       absence  \n",
       "1             normal      presence  \n",
       "2  reversable defect      presence  \n",
       "3             normal       absence  \n",
       "4             normal       absence  "
      ]
     },
     "execution_count": 44,
     "metadata": {},
     "output_type": "execute_result"
    }
   ],
   "source": [
    "heart.head()"
   ]
  },
  {
   "cell_type": "code",
   "execution_count": 45,
   "id": "fb450370-bfd2-45ed-9a7d-338de269b9da",
   "metadata": {},
   "outputs": [
    {
     "name": "stdout",
     "output_type": "stream",
     "text": [
      "<class 'pandas.core.frame.DataFrame'>\n",
      "RangeIndex: 303 entries, 0 to 302\n",
      "Data columns (total 14 columns):\n",
      " #   Column         Non-Null Count  Dtype   \n",
      "---  ------         --------------  -----   \n",
      " 0   age            303 non-null    float64 \n",
      " 1   sex            303 non-null    object  \n",
      " 2   cp             303 non-null    object  \n",
      " 3   trestbps       303 non-null    float64 \n",
      " 4   chol           303 non-null    float64 \n",
      " 5   fbs            303 non-null    float64 \n",
      " 6   restecg        303 non-null    object  \n",
      " 7   thalach        303 non-null    float64 \n",
      " 8   exang          303 non-null    float64 \n",
      " 9   oldpeak        303 non-null    float64 \n",
      " 10  slope          303 non-null    category\n",
      " 11  ca             303 non-null    float64 \n",
      " 12  thal           303 non-null    object  \n",
      " 13  heart_disease  303 non-null    object  \n",
      "dtypes: category(1), float64(8), object(5)\n",
      "memory usage: 31.3+ KB\n"
     ]
    }
   ],
   "source": [
    "# Verificamos que todas nuestras variables tengan los tipos de datos correctos.\n",
    "heart.info()"
   ]
  },
  {
   "cell_type": "code",
   "execution_count": 46,
   "id": "46b67cab-c0a9-437e-83e1-b268a8607f54",
   "metadata": {},
   "outputs": [],
   "source": [
    "# guardamos en un archivo CSV, nuestro dataframe limpio.\n",
    "heart.to_csv(\"../data/processed-cleveland-data-cleaned.csv\", index=False)  # index=False evita que se guarde la columna de índices"
   ]
  }
 ],
 "metadata": {
  "kernelspec": {
   "display_name": "Python [conda env:base] *",
   "language": "python",
   "name": "conda-base-py"
  },
  "language_info": {
   "codemirror_mode": {
    "name": "ipython",
    "version": 3
   },
   "file_extension": ".py",
   "mimetype": "text/x-python",
   "name": "python",
   "nbconvert_exporter": "python",
   "pygments_lexer": "ipython3",
   "version": "3.12.7"
  }
 },
 "nbformat": 4,
 "nbformat_minor": 5
}
